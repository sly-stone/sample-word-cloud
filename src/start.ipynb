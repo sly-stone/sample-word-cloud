{
 "cells": [
  {
   "cell_type": "code",
   "execution_count": null,
   "id": "c8f77e23",
   "metadata": {},
   "outputs": [],
   "source": [
    "import re\n",
    "\n",
    "from janome.tokenizer import Tokenizer\n",
    "from wordcloud import WordCloud"
   ]
  },
  {
   "cell_type": "code",
   "execution_count": null,
   "id": "7d9c5275-79a5-4fa8-b025-1fca11fd1315",
   "metadata": {},
   "outputs": [],
   "source": [
    "text_file = open(\"test.txt\")\n",
    "textdata = text_file.read()\n",
    "token = Tokenizer().tokenize(textdata)\n",
    "words = []\n",
    "\n",
    "for line in token:\n",
    "    tkn = re.split(\"\\t|,\", str(line))\n",
    "    # 名詞のみ対象\n",
    "    if tkn[1] in [\"名詞\"] and tkn[2] in [\"一般\", \"固有名詞\"]:\n",
    "        words.append(tkn[0])"
   ]
  },
  {
   "cell_type": "code",
   "execution_count": null,
   "id": "3c49f004-a336-427b-aab2-cdf78da053cd",
   "metadata": {},
   "outputs": [],
   "source": [
    "wordcloud = WordCloud(\n",
    "    background_color=\"white\",\n",
    "    font_path=\"./ipaexg.ttf\",\n",
    "    width=1200,\n",
    "    height=900,\n",
    ").generate(\" \".join(words))\n",
    "\n",
    "wordcloud.to_file(\"./sample.png\")"
   ]
  },
  {
   "cell_type": "code",
   "execution_count": null,
   "id": "778c4083-36c4-4474-ae9c-72de8db29a6c",
   "metadata": {},
   "outputs": [],
   "source": []
  }
 ],
 "metadata": {
  "kernelspec": {
   "display_name": "Python 3 (ipykernel)",
   "language": "python",
   "name": "python3"
  },
  "language_info": {
   "codemirror_mode": {
    "name": "ipython",
    "version": 3
   },
   "file_extension": ".py",
   "mimetype": "text/x-python",
   "name": "python",
   "nbconvert_exporter": "python",
   "pygments_lexer": "ipython3",
   "version": "3.9.6"
  }
 },
 "nbformat": 4,
 "nbformat_minor": 5
}
